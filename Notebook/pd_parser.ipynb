{
 "cells": [
  {
   "cell_type": "code",
   "execution_count": 1,
   "id": "921c7177",
   "metadata": {},
   "outputs": [],
   "source": [
    "from pdf2image import convert_from_path\n",
    "import pytesseract\n",
    "import numpy as np \n",
    "import cv2 \n",
    "from PIL import Image\n",
    "import re"
   ]
  },
  {
   "cell_type": "code",
   "execution_count": 2,
   "id": "f7bff565",
   "metadata": {},
   "outputs": [],
   "source": [
    "pages = convert_from_path(r\"G:\\Deep-learning-projects\\Medical-Data-Extraction\\Documents\\patient_details\\pd_1.pdf\",poppler_path=r'G:\\Deep-learning-projects\\Medical-Data-Extraction\\poppler-0.68.0\\bin')"
   ]
  },
  {
   "cell_type": "code",
   "execution_count": 3,
   "id": "4b4957c3",
   "metadata": {},
   "outputs": [
    {
     "data": {
      "text/plain": [
       "[<PIL.PpmImagePlugin.PpmImageFile image mode=RGB size=1867x2000 at 0x1914273EE50>,\n",
       " <PIL.PpmImagePlugin.PpmImageFile image mode=RGB size=2000x1398 at 0x1914273ED30>]"
      ]
     },
     "execution_count": 3,
     "metadata": {},
     "output_type": "execute_result"
    }
   ],
   "source": [
    "pages"
   ]
  },
  {
   "cell_type": "code",
   "execution_count": 4,
   "id": "9a8699c2",
   "metadata": {},
   "outputs": [],
   "source": [
    "pages[0].show()"
   ]
  },
  {
   "cell_type": "code",
   "execution_count": 5,
   "id": "1313196a",
   "metadata": {},
   "outputs": [
    {
     "name": "stdout",
     "output_type": "stream",
     "text": [
      "47/12/2020\n",
      "\n",
      "Patient Medical Record\n",
      "\n",
      "Patient Information Birth Date\n",
      "Kathy Crawford May 6 1972\n",
      "(737) 988-0851 Weight\n",
      "9264 Ash Dr 95\n",
      "New York City, 10005 .\n",
      "United States Height:\n",
      "190\n",
      "In Case of Emergency\n",
      "m _ a _\n",
      "Simeone Crawford 9266 Ash Dr\n",
      "New York City, New York, 10005\n",
      "Home phone United States\n",
      "(990) 375-4621\n",
      "Work phone\n",
      "Genera! Medical History\n",
      ". : a ee\n",
      "\n",
      "Chicken Pox (Varicella):\n",
      "\n",
      "IMMUNE\n",
      "\n",
      "Have you had the Hepatitis B vaccination?\n",
      "\n",
      "No\n",
      "\n",
      "List any Medical Problems (asthma, seizures, headaches):\n",
      "\n",
      "Migraine\n",
      "\n"
     ]
    }
   ],
   "source": [
    "pytesseract.pytesseract.tesseract_cmd=r\"C:\\Program Files\\Tesseract-OCR\\tesseract.exe\" # Mentioning Tesseract Directory To Utilize OCR Engine\n",
    "text = pytesseract.image_to_string(pages[0],lang='eng') # Conversion Step \n",
    "print(text)"
   ]
  },
  {
   "cell_type": "code",
   "execution_count": 6,
   "id": "179fa8ca",
   "metadata": {},
   "outputs": [],
   "source": [
    "def preprocess_image(img):\n",
    "    grey_scale = cv2.cvtColor(np.array(img),cv2.COLOR_BGR2GRAY)\n",
    "    resized_image = cv2.resize(grey_scale,None,fx=1.5,fy =1.5,interpolation=cv2.INTER_LINEAR)\n",
    "    processed_image =cv2.adaptiveThreshold(\n",
    "    resized_image,255,\n",
    "    cv2.ADAPTIVE_THRESH_GAUSSIAN_C,\n",
    "    cv2.THRESH_BINARY,63,13\n",
    "    ) \n",
    "    return processed_image"
   ]
  },
  {
   "cell_type": "code",
   "execution_count": 7,
   "id": "9253d34c",
   "metadata": {},
   "outputs": [
    {
     "name": "stdout",
     "output_type": "stream",
     "text": [
      "17/12/2020\n",
      "\n",
      "Patient Medical Record\n",
      "\n",
      "Patient Information Birth Date\n",
      "\n",
      "Kathy Crawford May 6 1972\n",
      "\n",
      "(737) 988-0851 Weight’\n",
      "\n",
      "9264 Ash Dr 95\n",
      "\n",
      "New York City, 10005 ‘\n",
      "\n",
      "United States Height\n",
      "190\n",
      "\n",
      "In Case of Emergency\n",
      "eee\n",
      "Simeone Crawford 9266 Ash Dr\n",
      "H New York City, New York, 10005\n",
      "ome phone United States\n",
      "(990) 375-4621\n",
      "Work phone\n",
      "Genera! Medical History\n",
      "_\n",
      "\n",
      "eS I rm\n",
      "\n",
      "ne\n",
      "\n",
      "nr nnn\n",
      "\n",
      "Chicken Pox (Varicella): Measies:\n",
      "\n",
      "IMMUNE IMMUNE\n",
      "\n",
      "Have you had the Hepatitis B vaccination?\n",
      "\n",
      "No\n",
      "\n",
      "List any Medical Problems (asthma, seizures, headaches):\n",
      "\n",
      "Migraine\n",
      "\n"
     ]
    }
   ],
   "source": [
    "img = preprocess_image(pages[0])\n",
    "Image.fromarray(img).show()\n",
    "text= pytesseract.image_to_string(img,lang='eng')\n",
    "print(text)"
   ]
  },
  {
   "cell_type": "markdown",
   "id": "445f32b2",
   "metadata": {},
   "source": [
    "### Extract Name"
   ]
  },
  {
   "cell_type": "code",
   "execution_count": 9,
   "id": "fb684aa5",
   "metadata": {},
   "outputs": [
    {
     "data": {
      "text/plain": [
       "[' Birth Date\\n\\nKathy Crawford May 6 1972\\n\\n']"
      ]
     },
     "execution_count": 9,
     "metadata": {},
     "output_type": "execute_result"
    }
   ],
   "source": [
    "pattern = \"Patient Information(.*?)\\(\\d{3}\\)\"\n",
    "matches = re.findall(pattern,text,flags = re.DOTALL) \n",
    "matches"
   ]
  },
  {
   "cell_type": "code",
   "execution_count": 10,
   "id": "632ada76",
   "metadata": {},
   "outputs": [
    {
     "data": {
      "text/plain": [
       "' Birth Date\\n\\nKathy Crawford May 6 1972\\n\\n'"
      ]
     },
     "execution_count": 10,
     "metadata": {},
     "output_type": "execute_result"
    }
   ],
   "source": [
    "matches[0]"
   ]
  },
  {
   "cell_type": "code",
   "execution_count": 11,
   "id": "c6512fb4",
   "metadata": {},
   "outputs": [],
   "source": [
    "match = matches[0].replace(\"Birth Date\", \"\").strip()"
   ]
  },
  {
   "cell_type": "code",
   "execution_count": 12,
   "id": "deb8bb00",
   "metadata": {},
   "outputs": [
    {
     "data": {
      "text/plain": [
       "'May 6 1972'"
      ]
     },
     "execution_count": 12,
     "metadata": {},
     "output_type": "execute_result"
    }
   ],
   "source": [
    "pattern = \"((Jan|Feb|March|April|May|June|July|Aug|Sep|Oct|Nov|Dec)[ \\d]+)\"\n",
    "date_matches = re.findall(pattern,match)\n",
    "date = date_matches[0][0]\n",
    "date"
   ]
  },
  {
   "cell_type": "code",
   "execution_count": 13,
   "id": "b46e489c",
   "metadata": {},
   "outputs": [
    {
     "data": {
      "text/plain": [
       "'Kathy Crawford'"
      ]
     },
     "execution_count": 13,
     "metadata": {},
     "output_type": "execute_result"
    }
   ],
   "source": [
    "match.replace(date,\"\").strip()"
   ]
  },
  {
   "cell_type": "code",
   "execution_count": 14,
   "id": "cea69fd0",
   "metadata": {},
   "outputs": [],
   "source": [
    "def remove_noise_from_name(name):\n",
    "    name = matches[0].replace(\"Birth Date\",\"\").strip()\n",
    "    date_pattern = \"((Jan|Feb|March|April|May|June|July|Aug|Sep|Oct|Nov|Dec)[ \\d]+)\"\n",
    "    date_matches = re.findall(pattern,match)\n",
    "    \n",
    "    if date_matches:\n",
    "        date = date_matches[0][0]\n",
    "        name = name.replace(date,\"\").strip()\n",
    "    \n",
    "    return name"
   ]
  },
  {
   "cell_type": "code",
   "execution_count": 15,
   "id": "f25a5d69",
   "metadata": {},
   "outputs": [
    {
     "data": {
      "text/plain": [
       "'Kathy Crawford'"
      ]
     },
     "execution_count": 15,
     "metadata": {},
     "output_type": "execute_result"
    }
   ],
   "source": [
    "name = \" Birth Date\\n\\nKathy Crawford May 6 1972\\n\\n\"\n",
    "name = remove_noise_from_name(name)\n",
    "name"
   ]
  },
  {
   "cell_type": "markdown",
   "id": "1ec3eff2",
   "metadata": {},
   "source": [
    "### Extract Phone"
   ]
  },
  {
   "cell_type": "code",
   "execution_count": 16,
   "id": "d700a90d",
   "metadata": {},
   "outputs": [
    {
     "data": {
      "text/plain": [
       "[(' Birth Date\\n\\nKathy Crawford May 6 1972\\n\\n(737) 988-0851',\n",
       "  ' Birth Date\\n\\nKathy Crawford May 6 1972\\n\\n',\n",
       "  '(737) 988-0851')]"
      ]
     },
     "execution_count": 16,
     "metadata": {},
     "output_type": "execute_result"
    }
   ],
   "source": [
    "pattern = \"Patient Information((.*?)(\\(\\d{3}\\) \\d{3}-\\d{4}))\"\n",
    "\n",
    "matches = re.findall(pattern,text,flags = re.DOTALL)\n",
    "matches"
   ]
  },
  {
   "cell_type": "code",
   "execution_count": 17,
   "id": "6814d52b",
   "metadata": {},
   "outputs": [
    {
     "data": {
      "text/plain": [
       "'(737) 988-0851'"
      ]
     },
     "execution_count": 17,
     "metadata": {},
     "output_type": "execute_result"
    }
   ],
   "source": [
    "matches[0][2]"
   ]
  },
  {
   "cell_type": "markdown",
   "id": "8b72aef7",
   "metadata": {},
   "source": [
    "### Extract Vaccine "
   ]
  },
  {
   "cell_type": "code",
   "execution_count": 18,
   "id": "290c8c4e",
   "metadata": {},
   "outputs": [
    {
     "data": {
      "text/plain": [
       "['No']"
      ]
     },
     "execution_count": 18,
     "metadata": {},
     "output_type": "execute_result"
    }
   ],
   "source": [
    "pattern = \"Have you had the Hepatitis B vaccination\\?.*(Yes|No)\"\n",
    "matches = re.findall(pattern,text,flags = re.DOTALL)\n",
    "matches"
   ]
  },
  {
   "cell_type": "markdown",
   "id": "3c0d7e38",
   "metadata": {},
   "source": [
    "### Medical Problems"
   ]
  },
  {
   "cell_type": "code",
   "execution_count": 19,
   "id": "93bd4f43",
   "metadata": {},
   "outputs": [
    {
     "data": {
      "text/plain": [
       "[]"
      ]
     },
     "execution_count": 19,
     "metadata": {},
     "output_type": "execute_result"
    }
   ],
   "source": [
    "pattern = \"List any Medical Problems (asthma, seizures, headaches):(.*)\"\n",
    "matches = re.findall(pattern,text,flags = re.DOTALL)\n",
    "matches"
   ]
  }
 ],
 "metadata": {
  "kernelspec": {
   "display_name": "audioc",
   "language": "python",
   "name": "python3"
  },
  "language_info": {
   "codemirror_mode": {
    "name": "ipython",
    "version": 3
   },
   "file_extension": ".py",
   "mimetype": "text/x-python",
   "name": "python",
   "nbconvert_exporter": "python",
   "pygments_lexer": "ipython3",
   "version": "3.10.8 | packaged by conda-forge | (main, Nov 24 2022, 14:07:00) [MSC v.1916 64 bit (AMD64)]"
  },
  "vscode": {
   "interpreter": {
    "hash": "b851ecb4ccad081cab3a0050adce1e8efedbac3085b62e8078e82b872b97ba75"
   }
  }
 },
 "nbformat": 4,
 "nbformat_minor": 5
}
