{
 "cells": [
  {
   "cell_type": "code",
   "execution_count": 1,
   "id": "3accbd64",
   "metadata": {},
   "outputs": [],
   "source": [
    "# Importing packages to for pdf To image\n",
    "import os\n",
    "import sys\n",
    "from pdf2image import convert_from_path # Convert it by allocating file name \n",
    "import cv2\n",
    "from PIL import Image\n",
    "import numpy as np"
   ]
  },
  {
   "cell_type": "code",
   "execution_count": 2,
   "id": "80a3d1a5",
   "metadata": {},
   "outputs": [],
   "source": [
    "pages = convert_from_path(r\"G:\\Deep-learning-projects\\Medical-Data-Extraction\\Documents\\Prescription\\pre_2.pdf\",poppler_path=r'G:\\Deep-learning-projects\\Medical-Data-Extraction\\poppler-0.68.0\\bin')"
   ]
  },
  {
   "cell_type": "code",
   "execution_count": 3,
   "id": "0fbe4edc",
   "metadata": {},
   "outputs": [
    {
     "data": {
      "text/plain": [
       "[<PIL.PpmImagePlugin.PpmImageFile image mode=RGB size=1700x2200 at 0x161BC22F520>]"
      ]
     },
     "execution_count": 3,
     "metadata": {},
     "output_type": "execute_result"
    }
   ],
   "source": [
    "pages"
   ]
  },
  {
   "cell_type": "code",
   "execution_count": 4,
   "id": "48c2e1e3",
   "metadata": {},
   "outputs": [],
   "source": [
    "pages[0].show()"
   ]
  },
  {
   "cell_type": "code",
   "execution_count": 5,
   "id": "df2fa5ee",
   "metadata": {},
   "outputs": [
    {
     "name": "stdout",
     "output_type": "stream",
     "text": [
      "Refill: 3 times\n",
      "\n",
      "\n"
     ]
    }
   ],
   "source": [
    "# Import Pytesseract For Text To Image Conversion\n",
    "import pytesseract\n",
    "pytesseract.pytesseract.tesseract_cmd=r\"C:\\Program Files\\Tesseract-OCR\\tesseract.exe\" # Mentioning Tesseract Directory To Utilize OCR Engine\n",
    "text = pytesseract.image_to_string(pages[0],lang='eng') # Conversion Step \n",
    "print(text)"
   ]
  },
  {
   "cell_type": "markdown",
   "id": "0220f09d",
   "metadata": {},
   "source": [
    "### Above text is not extracted correctly as there is shadow present in image to fix that we have to do\n",
    "* Use Computer Vision To Clean The Image "
   ]
  },
  {
   "cell_type": "code",
   "execution_count": 6,
   "id": "6417661d",
   "metadata": {},
   "outputs": [],
   "source": [
    "def preprocess_image(img):\n",
    "    grey_scale = cv2.cvtColor(np.array(img), cv2.COLOR_BGR2GRAY)\n",
    "    resized_image = cv2.resize(grey_scale, None, fx=1.5, fy=1.5, interpolation=cv2.INTER_LINEAR)\n",
    "    processed_image = cv2.adaptiveThreshold(\n",
    "    resized_image, 255,\n",
    "    cv2.ADAPTIVE_THRESH_GAUSSIAN_C,\n",
    "    cv2.THRESH_BINARY, 63, 13\n",
    "    )\n",
    "    return processed_image"
   ]
  },
  {
   "cell_type": "code",
   "execution_count": 7,
   "id": "d9ddf908",
   "metadata": {},
   "outputs": [],
   "source": [
    "out_img = preprocess_image(pages[0])\n",
    "Image.fromarray(out_img).show()"
   ]
  },
  {
   "cell_type": "code",
   "execution_count": 8,
   "id": "09886a92",
   "metadata": {},
   "outputs": [
    {
     "name": "stdout",
     "output_type": "stream",
     "text": [
      "Dr John Smith, M.D\n",
      "\n",
      "2 Non-Important street,\n",
      "New York, Phone (900)-222-2222\n",
      "\n",
      "Name:  Virat Kohli Date: 2/05/2022\n",
      "\n",
      "Address: 2 cricket blvd, New Delhi |\n",
      "\n",
      "‘Omeprazole 40 mg\n",
      "\n",
      "Directions: Use two tablets daily for three months\n",
      "\n",
      "Refill: 3 times\n",
      "\n"
     ]
    }
   ],
   "source": [
    "pytesseract.pytesseract_cmd = r\"C:\\Program Files\\Tesseract-OCR\\tesseract.exe\"\n",
    "text = pytesseract.image_to_string(out_img, lang=\"eng\")\n",
    "print(text)"
   ]
  }
 ],
 "metadata": {
  "kernelspec": {
   "display_name": "Python 3 (ipykernel)",
   "language": "python",
   "name": "python3"
  },
  "language_info": {
   "codemirror_mode": {
    "name": "ipython",
    "version": 3
   },
   "file_extension": ".py",
   "mimetype": "text/x-python",
   "name": "python",
   "nbconvert_exporter": "python",
   "pygments_lexer": "ipython3",
   "version": "3.9.12"
  }
 },
 "nbformat": 4,
 "nbformat_minor": 5
}
